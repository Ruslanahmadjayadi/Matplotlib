{
 "cells": [
  {
   "cell_type": "markdown",
   "metadata": {},
   "source": [
    "# Histogram\n",
    "\n",
    "- Mempelajari cara membuat Histogram dengan matplotlib"
   ]
  },
  {
   "cell_type": "markdown",
   "metadata": {},
   "source": [
    "## Import Modules"
   ]
  },
  {
   "cell_type": "code",
   "execution_count": 24,
   "metadata": {},
   "outputs": [
    {
     "name": "stdout",
     "output_type": "stream",
     "text": [
      "3.3.2\n",
      "1.19.2\n"
     ]
    }
   ],
   "source": [
    "import matplotlib\n",
    "import matplotlib.pyplot as plt\n",
    "import numpy as np\n",
    "\n",
    "print(matplotlib.__version__)\n",
    "print(np.__version__)"
   ]
  },
  {
   "cell_type": "markdown",
   "metadata": {},
   "source": [
    "## Mempersiapkan Data Sample"
   ]
  },
  {
   "cell_type": "code",
   "execution_count": 25,
   "metadata": {},
   "outputs": [
    {
     "data": {
      "text/plain": [
       "array([ 93.11181673, 103.47757456, 103.99767917, ...,  99.83776826,\n",
       "        67.85291494, 105.79874977])"
      ]
     },
     "execution_count": 25,
     "metadata": {},
     "output_type": "execute_result"
    }
   ],
   "source": [
    "mu, sigma = 90, 10 \n",
    "# variabel mu mereprentasikan nilai mean sedangkan sigma merepresentasikan standard deviation\n",
    "\n",
    "x = mu + sigma * np.random.randn(10000) # -> membentuk normal distribution\n",
    "# 10000 merepresentasikan jumlah data point yang akan dihasilkan oleh fungsi np.random.randn\n",
    "x"
   ]
  },
  {
   "cell_type": "code",
   "execution_count": 26,
   "metadata": {},
   "outputs": [
    {
     "data": {
      "text/plain": [
       "(10000,)"
      ]
     },
     "execution_count": 26,
     "metadata": {},
     "output_type": "execute_result"
    }
   ],
   "source": [
    "x.shape #membuktikan struktur data array yang berjumlah data point 10000"
   ]
  },
  {
   "cell_type": "markdown",
   "metadata": {},
   "source": [
    "## Histogram dengan method pyplot Style"
   ]
  },
  {
   "cell_type": "code",
   "execution_count": 27,
   "metadata": {},
   "outputs": [
    {
     "data": {
      "image/png": "[encoded data removed]",
      "text/plain": [
       "<Figure size 432x288 with 1 Axes>"
      ]
     },
     "metadata": {
      "needs_background": "light"
     },
     "output_type": "display_data"
    }
   ],
   "source": [
    "\n",
    "plt.hist(x, \n",
    "         bins=75, \n",
    "         facecolor='b', \n",
    "         alpha=0.50)\n",
    "\n",
    "# X sample data\n",
    "# bins digunakan untuk menentukan jumlah klasifikasi data atau pengelompokan data yang artinya akan membentuk 70 kelompok data dari 10000 data point\n",
    "# facecolor 'b' yaitu merepresentasikan warna biru pada histogram\n",
    "# untuk mengatur transparansi warna dari histogram\n",
    "\n",
    "plt.xlabel('Sumbu X')\n",
    "plt.ylabel('Sumbu Y')\n",
    "plt.title('Histogram')\n",
    "\n",
    "plt.text(50, 350, '$\\mu=100,\\ \\sigma=15$')\n",
    "\n",
    "# 2 parameter di awal merepresentasikan koordinat atau posisi teks akan ditempatkan \n",
    "# parameter 3 merepresentasikan nilai string yang akan ditampilkan \n",
    "\n",
    "plt.grid() #untuk menghadirkan grid pada plotting\n",
    "\n",
    "plt.show()"
   ]
  },
  {
   "cell_type": "code",
   "execution_count": 28,
   "metadata": {},
   "outputs": [],
   "source": [
    "## Histogram dengan method oo Style"
   ]
  },
  {
   "cell_type": "code",
   "execution_count": 29,
   "metadata": {},
   "outputs": [
    {
     "data": {
      "image/png": "[encoded data removed]",
      "text/plain": [
       "<Figure size 432x288 with 1 Axes>"
      ]
     },
     "metadata": {
      "needs_background": "light"
     },
     "output_type": "display_data"
    }
   ],
   "source": [
    "fig, ax = plt.subplots() # untuk menampung object figure(fig) dan axes (ax)\n",
    "\n",
    "ax.hist(x, \n",
    "        bins=50, \n",
    "        facecolor='b', \n",
    "        alpha=0.25)\n",
    "\n",
    "# .hist untuk menghasilkan plotting histogram\n",
    "# X sample data\n",
    "# bins digunakan untuk menentukan jumlah klasifikasi data atau pengelompokan data yang artinya akan membentuk 70 kelompok data dari 10000 data point\n",
    "# facecolor 'b' yaitu merepresentasikan warna biru pada histogram\n",
    "# untuk mengatur transparansi warna dari histogram\n",
    "\n",
    "ax.set_xlabel('Sumbu X')\n",
    "ax.set_ylabel('Sumbu Y')\n",
    "ax.set_title('Histogram')\n",
    "\n",
    "ax.text(60, 500, '$\\mu=100,\\ \\sigma=15$')\n",
    "\n",
    "# 2 parameter di awal merepresentasikan koordinat atau posisi teks akan ditempatkan \n",
    "# parameter 3 merepresentasikan nilai string yang akan ditampilkan \n",
    "\n",
    "ax.grid()#untuk menghadirkan grid pada plotting\n",
    "\n",
    "plt.show()"
   ]
  },
  {
   "cell_type": "code",
   "execution_count": null,
   "metadata": {},
   "outputs": [],
   "source": []
  }
 ],
 "metadata": {
  "kernelspec": {
   "display_name": "Python 3",
   "language": "python",
   "name": "python3"
  },
  "language_info": {
   "codemirror_mode": {
    "name": "ipython",
    "version": 3
   },
   "file_extension": ".py",
   "mimetype": "text/x-python",
   "name": "python",
   "nbconvert_exporter": "python",
   "pygments_lexer": "ipython3",
   "version": "3.8.5"
  }
 },
 "nbformat": 4,
 "nbformat_minor": 4
}
