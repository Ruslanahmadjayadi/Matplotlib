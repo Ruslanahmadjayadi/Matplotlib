{
 "cells": [
  {
   "cell_type": "markdown",
   "metadata": {},
   "source": [
    "## Pie Plot / Pie Chart\n",
    "\n",
    "- Mempelajari cara membuat Pie Plot dengan Matplotlib"
   ]
  },
  {
   "cell_type": "markdown",
   "metadata": {},
   "source": [
    "## Import Modules"
   ]
  },
  {
   "cell_type": "code",
   "execution_count": null,
   "metadata": {},
   "outputs": [],
   "source": [
    "import matplotlib\n",
    "import matplotlib.pyplot as plt\n",
    "\n",
    "print(matplotlib.__version__)"
   ]
  },
  {
   "cell_type": "markdown",
   "metadata": {},
   "source": [
    "## Simple Pie Plot"
   ]
  },
  {
   "cell_type": "code",
   "execution_count": null,
   "metadata": {},
   "outputs": [],
   "source": [
    "kategori = ['A', 'B', 'C', 'D', 'E']\n",
    "data = [215, 130, 245, 210, 225]"
   ]
  },
  {
   "cell_type": "code",
   "execution_count": null,
   "metadata": {},
   "outputs": [],
   "source": [
    "plt.pie(data, \n",
    "        labels=kategori,\n",
    "        autopct='%1.1f%%',\n",
    "        startangle=90)\n",
    "\n",
    "plt.title('Contoh Pie Plot')\n",
    "\n",
    "plt.show()"
   ]
  },
  {
   "cell_type": "markdown",
   "metadata": {},
   "source": [
    "## Pengaturan Legend dan Color"
   ]
  },
  {
   "cell_type": "code",
   "execution_count": null,
   "metadata": {},
   "outputs": [],
   "source": [
    "kategori = ['A', 'B', 'C', 'D', 'E']\n",
    "data = [215, 130, 245, 210, 225]\n",
    "warna = ['pink', 'cyan', '#e03364', 'yellowgreen', 'skyblue']"
   ]
  },
  {
   "cell_type": "code",
   "execution_count": null,
   "metadata": {},
   "outputs": [],
   "source": [
    "plt.pie(data, \n",
    "        labels=kategori,\n",
    "        colors=warna,\n",
    "        autopct='%1.1f%%',\n",
    "        startangle=90)\n",
    "\n",
    "plt.legend()\n",
    "plt.title('Contoh Pie Plot')\n",
    "\n",
    "plt.show()"
   ]
  },
  {
   "cell_type": "markdown",
   "metadata": {},
   "source": [
    "## Exploded Pie Plot"
   ]
  },
  {
   "cell_type": "code",
   "execution_count": null,
   "metadata": {},
   "outputs": [],
   "source": [
    "kategori = ['A', 'B', 'C', 'D', 'E']\n",
    "data = [215, 130, 245, 210, 225]\n",
    "warna = ['pink', 'cyan', '#e03364', 'yellowgreen', 'skyblue']\n",
    "explode_var = [0., 0., 0.2, 0., 0.08]"
   ]
  },
  {
   "cell_type": "code",
   "execution_count": null,
   "metadata": {},
   "outputs": [],
   "source": [
    "plt.pie(data, \n",
    "        labels=kategori,\n",
    "        colors=warna,\n",
    "        explode=explode_var,\n",
    "        autopct='%1.1f%%',\n",
    "        startangle=90)\n",
    "\n",
    "plt.title('Contoh Exploded Pie Plot')\n",
    "\n",
    "plt.show()"
   ]
  }
 ],
 "metadata": {
  "kernelspec": {
   "display_name": "Python 3",
   "language": "python",
   "name": "python3"
  },
  "language_info": {
   "codemirror_mode": {
    "name": "ipython",
    "version": 3
   },
   "file_extension": ".py",
   "mimetype": "text/x-python",
   "name": "python",
   "nbconvert_exporter": "python",
   "pygments_lexer": "ipython3",
   "version": "3.8.5"
  }
 },
 "nbformat": 4,
 "nbformat_minor": 4
}
