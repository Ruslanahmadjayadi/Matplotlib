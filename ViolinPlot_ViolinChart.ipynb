{
 "cells": [
  {
   "cell_type": "markdown",
   "metadata": {},
   "source": [
    "# Violin Plot / Violin Chat"
   ]
  },
  {
   "cell_type": "code",
   "execution_count": null,
   "metadata": {},
   "outputs": [],
   "source": [
    "import matplotlib\n",
    "import matplotlib.pyplot as plt\n",
    "import numpy as np\n",
    "\n",
    "print(matplotlib.__version__)\n",
    "print(np.__version__)"
   ]
  },
  {
   "cell_type": "code",
   "execution_count": null,
   "metadata": {},
   "outputs": [],
   "source": []
  },
  {
   "cell_type": "code",
   "execution_count": null,
   "metadata": {},
   "outputs": [],
   "source": [
    "np.random.seed(2)\n",
    "data = np.random.normal(loc=100, scale=10, size=200)\n",
    "data"
   ]
  },
  {
   "cell_type": "code",
   "execution_count": null,
   "metadata": {},
   "outputs": [],
   "source": []
  },
  {
   "cell_type": "code",
   "execution_count": null,
   "metadata": {},
   "outputs": [],
   "source": [
    "plt.violinplot(data)\n",
    "\n",
    "plt.title('Simple Violin Plot')\n",
    "plt.xlabel('Sumbu X')\n",
    "plt.ylabel('Sumbu Y')\n",
    "\n",
    "plt.show()"
   ]
  },
  {
   "cell_type": "code",
   "execution_count": null,
   "metadata": {},
   "outputs": [],
   "source": []
  },
  {
   "cell_type": "code",
   "execution_count": null,
   "metadata": {},
   "outputs": [],
   "source": [
    "plt.violinplot(data,\n",
    "               showextrema=True,\n",
    "               showmeans=False,\n",
    "               showmedians=False,\n",
    "               quantiles=[0.25, 0.5, 0.75])\n",
    "\n",
    "plt.title('Violin Plot')\n",
    "plt.xlabel('Sumbu X')\n",
    "plt.ylabel('Sumbu Y')\n",
    "\n",
    "plt.show()"
   ]
  },
  {
   "cell_type": "code",
   "execution_count": null,
   "metadata": {},
   "outputs": [],
   "source": []
  },
  {
   "cell_type": "code",
   "execution_count": null,
   "metadata": {},
   "outputs": [],
   "source": [
    "plt.violinplot(data, vert=False)\n",
    "\n",
    "plt.title('Horisontal Violin Plot')\n",
    "plt.xlabel('Sumbu X')\n",
    "plt.ylabel('Sumbu Y')\n",
    "\n",
    "plt.show()"
   ]
  },
  {
   "cell_type": "code",
   "execution_count": null,
   "metadata": {},
   "outputs": [],
   "source": []
  },
  {
   "cell_type": "code",
   "execution_count": null,
   "metadata": {},
   "outputs": [],
   "source": [
    "np.random.seed(10)\n",
    "data1 = np.random.normal(100, 10, 200)\n",
    "data2 = np.random.normal(80, 30, 200)\n",
    "data3 = np.random.normal(90, 20, 200)\n",
    "data4 = np.random.normal(70, 25, 200)\n",
    "\n",
    "data = [data1, data2, data3, data4]"
   ]
  },
  {
   "cell_type": "code",
   "execution_count": null,
   "metadata": {},
   "outputs": [],
   "source": [
    "plt.violinplot(data)\n",
    "\n",
    "plt.title('Multiple Violin Plot')\n",
    "plt.xlabel('Sumbu X')\n",
    "plt.ylabel('Sumbu Y')\n",
    "\n",
    "plt.show()"
   ]
  }
 ],
 "metadata": {
  "kernelspec": {
   "display_name": "Python 3",
   "language": "python",
   "name": "python3"
  },
  "language_info": {
   "codemirror_mode": {
    "name": "ipython",
    "version": 3
   },
   "file_extension": ".py",
   "mimetype": "text/x-python",
   "name": "python",
   "nbconvert_exporter": "python",
   "pygments_lexer": "ipython3",
   "version": "3.8.5"
  }
 },
 "nbformat": 4,
 "nbformat_minor": 4
}
