{
 "cells": [
  {
   "cell_type": "markdown",
   "metadata": {},
   "source": [
    "# Visualisasi Data Yang Tersimpan Dalam Pandas Data Frame | Part 2 |\n",
    "\n",
    "- Mempelajari cara untuk melakukan Visualisasi data yang tersimpan pada Pandas Data Frame dengan Matplotlib\n",
    "\n",
    "## Import Modules\n",
    "- Import modules dan menampilkan versi modules"
   ]
  },
  {
   "cell_type": "code",
   "execution_count": null,
   "metadata": {},
   "outputs": [],
   "source": [
    "%matplotlib inline"
   ]
  },
  {
   "cell_type": "code",
   "execution_count": null,
   "metadata": {},
   "outputs": [],
   "source": [
    "import matplotlib\n",
    "import matplotlib.pyplot as plt\n",
    "import pandas as pd\n",
    "import numpy as np\n",
    "\n",
    "print(matplotlib.__version__)\n",
    "print(pd.__version__)"
   ]
  },
  {
   "cell_type": "markdown",
   "metadata": {},
   "source": [
    "## Line Plot\n",
    "#### Sample Dataset"
   ]
  },
  {
   "cell_type": "code",
   "execution_count": null,
   "metadata": {},
   "outputs": [],
   "source": [
    "data = {'Tahun':['1958','1963','1968','1973','1983','1988','1993','1998','1993','2003','2008','2013','2018'],\n",
    "       'Populasi':[51652500,53624900,55213500,56223000,56178000,56315000,56916000,57713000,58474000,59636000,61823000,64105000,66436000]\n",
    "       }\n",
    "df = pd.DataFrame(data)\n",
    "df"
   ]
  },
  {
   "cell_type": "code",
   "execution_count": null,
   "metadata": {},
   "outputs": [],
   "source": [
    "df.plot(x='Tahun',y='Populasi',kind='line')\n",
    "\n",
    "plt.title('Data Populasi Penduduk')\n",
    "plt.ylabel('Populasi')\n",
    "plt.xlabel('Tahun')\n",
    "plt.show()"
   ]
  },
  {
   "cell_type": "markdown",
   "metadata": {},
   "source": [
    "## Bar Plot\n",
    "#### Sample Dataset"
   ]
  },
  {
   "cell_type": "code",
   "execution_count": null,
   "metadata": {},
   "outputs": [],
   "source": [
    "data = {\n",
    "    'Negara':['United States','Singapore','Germany','United Kingdom','Japan'],\n",
    "    'GDP':[62606,100345,52559,45705,44227]\n",
    "}\n",
    "df = pd.DataFrame(data,columns=['Negara','GDP'])\n",
    "df"
   ]
  },
  {
   "cell_type": "code",
   "execution_count": null,
   "metadata": {},
   "outputs": [],
   "source": [
    "df.plot(x='Negara',y='GDP',kind='bar')\n",
    "\n",
    "plt.title('GDP per kapita')\n",
    "plt.ylabel('GDP dalam USD')\n",
    "plt.xlabel('Negara')\n",
    "plt.show()"
   ]
  },
  {
   "cell_type": "code",
   "execution_count": null,
   "metadata": {},
   "outputs": [],
   "source": [
    "df.plot(x='Negara',y='GDP',kind='barh')\n",
    "\n",
    "plt.title('GDP per kapita')\n",
    "plt.xlabel('GDP dalam USD')\n",
    "plt.ylabel('Negara')\n",
    "plt.show()"
   ]
  },
  {
   "cell_type": "code",
   "execution_count": null,
   "metadata": {},
   "outputs": [],
   "source": [
    "df.plot(x='Negara',y='GDP',kind='barh',color='green',legend=False)\n",
    "\n",
    "plt.title('GDP per kapita')\n",
    "plt.xlabel('GDP dalam USD')\n",
    "plt.ylabel('Negara')\n",
    "plt.show()"
   ]
  },
  {
   "cell_type": "markdown",
   "metadata": {},
   "source": [
    "## Scatter Plot\n",
    "#### Sample Datset"
   ]
  },
  {
   "cell_type": "code",
   "execution_count": null,
   "metadata": {},
   "outputs": [],
   "source": [
    "data = {\n",
    "    'Negara':['United States','Singapore','Germany','United Kingdom','Japan'],\n",
    "    'GDP':[52591,67110,46426,38749,36030],\n",
    "    'Life_Expectancy':[79.24,82.84,80.84,81.40,83.62]\n",
    "}\n",
    "df = pd.DataFrame(data,columns=['Negara','GDP','Life_Expectancy'])\n",
    "df"
   ]
  },
  {
   "cell_type": "code",
   "execution_count": null,
   "metadata": {},
   "outputs": [],
   "source": [
    "df.plot(kind='scatter', x='GDP', y='Life_Expectancy', color='red')\n",
    "\n",
    "plt.title('GDP dan Life Expectancy')\n",
    "plt.ylabel('Life Expectancy')\n",
    "plt.xlabel('GDP dan USD')\n",
    "plt.show()"
   ]
  },
  {
   "cell_type": "markdown",
   "metadata": {},
   "source": [
    "## Pie Plot\n",
    "#### Sample Dataset"
   ]
  },
  {
   "cell_type": "code",
   "execution_count": null,
   "metadata": {},
   "outputs": [],
   "source": [
    "data = {\n",
    "    'benua': [\n",
    "        'South America', 'Oceania', 'North America', 'Europe', 'Asia',\n",
    "        'Antarctica', 'Africa'\n",
    "    ],\n",
    "    'populasi':\n",
    "    [422535000, 38304000, 579024000, 738849000, 4581757408, 1106, 1216130000]\n",
    "}\n",
    "\n",
    "df = pd.DataFrame(data)\n",
    "df"
   ]
  },
  {
   "cell_type": "code",
   "execution_count": null,
   "metadata": {},
   "outputs": [],
   "source": [
    "df.plot(kind='pie', y='populasi', figsize=(6, 6))\n",
    "\n",
    "plt.title('Populasi di tiap Benua')\n",
    "plt.show()"
   ]
  },
  {
   "cell_type": "code",
   "execution_count": null,
   "metadata": {},
   "outputs": [],
   "source": [
    "df = df.set_index('benua')\n",
    "df"
   ]
  },
  {
   "cell_type": "code",
   "execution_count": null,
   "metadata": {},
   "outputs": [],
   "source": [
    "df.plot(kind='pie', y='populasi', figsize=(6, 6))\n",
    "\n",
    "plt.title('Populasi di tiap Benua')\n",
    "plt.show()"
   ]
  },
  {
   "cell_type": "markdown",
   "metadata": {},
   "source": [
    "## Box Plot\n",
    "#### Sample Dataset"
   ]
  },
  {
   "cell_type": "code",
   "execution_count": null,
   "metadata": {},
   "outputs": [],
   "source": [
    "data = {\n",
    "    'benua': [\n",
    "        'South America', 'Oceania', 'North America', 'Europe', 'Asia',\n",
    "        'Antarctica', 'Africa'\n",
    "    ],\n",
    "    'populasi':\n",
    "    [422535000, 38304000, 579024000, 738849000, 4581757408, 1106, 1216130000]\n",
    "}\n",
    "\n",
    "df = pd.DataFrame(data)\n",
    "df"
   ]
  },
  {
   "cell_type": "code",
   "execution_count": null,
   "metadata": {},
   "outputs": [],
   "source": [
    "df['populasi'].plot(kind='box')\n",
    "\n",
    "plt.title('Sebaran Populasi')\n",
    "plt.ylabel('jumlah')\n",
    "plt.show()"
   ]
  }
 ],
 "metadata": {
  "kernelspec": {
   "display_name": "Python 3",
   "language": "python",
   "name": "python3"
  },
  "language_info": {
   "codemirror_mode": {
    "name": "ipython",
    "version": 3
   },
   "file_extension": ".py",
   "mimetype": "text/x-python",
   "name": "python",
   "nbconvert_exporter": "python",
   "pygments_lexer": "ipython3",
   "version": "3.8.5"
  }
 },
 "nbformat": 4,
 "nbformat_minor": 4
}
