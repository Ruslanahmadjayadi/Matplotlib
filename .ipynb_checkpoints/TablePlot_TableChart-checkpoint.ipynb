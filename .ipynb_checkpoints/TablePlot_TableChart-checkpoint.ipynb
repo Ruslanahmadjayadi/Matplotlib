{
 "cells": [
  {
   "cell_type": "markdown",
   "metadata": {},
   "source": [
    "# Table Plot / Table Chart\n",
    "\n",
    "- Mempelajari cara membuat Table Plot dengan Matplotlob"
   ]
  },
  {
   "cell_type": "markdown",
   "metadata": {},
   "source": [
    "## Import Modules"
   ]
  },
  {
   "cell_type": "code",
   "execution_count": null,
   "metadata": {},
   "outputs": [],
   "source": [
    "import matplotlib\n",
    "import matplotlib.pyplot as plt\n",
    "import numpy as np\n",
    "\n",
    "print(matplotlib.__version__)\n",
    "print(np.__version__)"
   ]
  },
  {
   "cell_type": "markdown",
   "metadata": {},
   "source": [
    "## Sample Data"
   ]
  },
  {
   "cell_type": "code",
   "execution_count": null,
   "metadata": {},
   "outputs": [],
   "source": [
    "data_uas=[\n",
    "    ['Bejo', 70],\n",
    "    ['Tejo', 83],\n",
    "    ['Cecep', 62],\n",
    "    ['Wati', 74],\n",
    "    ['Karti', 71]\n",
    "]"
   ]
  },
  {
   "cell_type": "code",
   "execution_count": null,
   "metadata": {},
   "outputs": [],
   "source": [
    "data_uas"
   ]
  },
  {
   "cell_type": "markdown",
   "metadata": {},
   "source": [
    "## Table Plot dengan OO STYLE"
   ]
  },
  {
   "cell_type": "code",
   "execution_count": null,
   "metadata": {},
   "outputs": [],
   "source": [
    "fig, ax = plt.subplots()\n",
    "\n",
    "table = plt.table(cellText=data_uas, \n",
    "                  loc='center')\n",
    "\n",
    "table.set_fontsize(14)\n",
    "table.scale(1, 4) # ukuran kolom, baris\n",
    "\n",
    "ax.axis(False)\n",
    "\n",
    "plt.show()"
   ]
  },
  {
   "cell_type": "markdown",
   "metadata": {},
   "source": [
    "## Table Plot dengan Pyplot STYLE"
   ]
  },
  {
   "cell_type": "code",
   "execution_count": null,
   "metadata": {},
   "outputs": [],
   "source": [
    "table = plt.table(cellText=data_uas, \n",
    "                  loc='center')\n",
    "\n",
    "table.set_fontsize(14)\n",
    "table.scale(1, 4) # ukuran kolom, baris\n",
    "\n",
    "ax = plt.gca()\n",
    "ax.axis(False)\n",
    "\n",
    "plt.show()"
   ]
  }
 ],
 "metadata": {
  "kernelspec": {
   "display_name": "Python 3",
   "language": "python",
   "name": "python3"
  },
  "language_info": {
   "codemirror_mode": {
    "name": "ipython",
    "version": 3
   },
   "file_extension": ".py",
   "mimetype": "text/x-python",
   "name": "python",
   "nbconvert_exporter": "python",
   "pygments_lexer": "ipython3",
   "version": "3.8.5"
  }
 },
 "nbformat": 4,
 "nbformat_minor": 4
}
