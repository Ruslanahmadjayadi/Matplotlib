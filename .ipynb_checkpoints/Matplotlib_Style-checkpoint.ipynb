{
 "cells": [
  {
   "cell_type": "markdown",
   "metadata": {},
   "source": [
    "# Matplotlib Style\n",
    "\n",
    "- Mempelajari style dalam matplotlib"
   ]
  },
  {
   "cell_type": "markdown",
   "metadata": {},
   "source": [
    "## Import Modules"
   ]
  },
  {
   "cell_type": "code",
   "execution_count": null,
   "metadata": {},
   "outputs": [],
   "source": [
    "import matplotlib\n",
    "import matplotlib.pyplot as plt\n",
    "from matplotlib import style\n",
    "import numpy as np\n",
    "\n",
    "print(matplotlib.__version__)\n",
    "print(np.__version__)"
   ]
  },
  {
   "cell_type": "markdown",
   "metadata": {},
   "source": [
    "## Fungsi Plotting"
   ]
  },
  {
   "cell_type": "code",
   "execution_count": null,
   "metadata": {},
   "outputs": [],
   "source": [
    "def gambar_barplot():\n",
    "    data1 = [25,85, 75, 40, 60]\n",
    "    data2 = [40, 35, 20, 55, 10]\n",
    "    kategori = ['A', 'B', 'C', 'D', 'E']\n",
    "\n",
    "    x = np.arange(len(kategori))\n",
    "    \n",
    "    width = 0.35\n",
    "\n",
    "    plt.bar(x-width/2, data1, width, label='Data 1')\n",
    "    plt.bar(x+width/2, data2, width, label='Data 2')\n",
    "\n",
    "    plt.xticks(x, kategori)\n",
    "\n",
    "    plt.grid(linestyle='--', \n",
    "             linewidth=1, \n",
    "             axis='y',\n",
    "             alpha=0.75)\n",
    "\n",
    "    plt.xlabel('Kategori')\n",
    "    plt.ylabel('Jumlah')\n",
    "    plt.title('Contoh Grouped Bar Plot')\n",
    "\n",
    "    plt.legend()\n",
    "    plt.show()"
   ]
  },
  {
   "cell_type": "code",
   "execution_count": null,
   "metadata": {},
   "outputs": [],
   "source": [
    "gambar_barplot()"
   ]
  },
  {
   "cell_type": "markdown",
   "metadata": {},
   "source": [
    "## Matplotlib Style"
   ]
  },
  {
   "cell_type": "code",
   "execution_count": null,
   "metadata": {},
   "outputs": [],
   "source": [
    "plt.style.available"
   ]
  },
  {
   "cell_type": "code",
   "execution_count": null,
   "metadata": {},
   "outputs": [],
   "source": [
    "style.use('ggplot')\n",
    "gambar_barplot()"
   ]
  }
 ],
 "metadata": {
  "kernelspec": {
   "display_name": "Python 3",
   "language": "python",
   "name": "python3"
  },
  "language_info": {
   "codemirror_mode": {
    "name": "ipython",
    "version": 3
   },
   "file_extension": ".py",
   "mimetype": "text/x-python",
   "name": "python",
   "nbconvert_exporter": "python",
   "pygments_lexer": "ipython3",
   "version": "3.8.5"
  }
 },
 "nbformat": 4,
 "nbformat_minor": 4
}
