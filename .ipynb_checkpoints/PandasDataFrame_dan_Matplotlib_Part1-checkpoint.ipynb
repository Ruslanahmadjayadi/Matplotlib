{
 "cells": [
  {
   "cell_type": "markdown",
   "metadata": {},
   "source": [
    "# Visualisasi Data Yang Tersimpan Dalam Pandas Data Frame | Part 1 |\n",
    "\n",
    "- Mempelajari cara untuk melakukan Visualisasi data yang tersimpan pada Pandas Data Frame dengan Matplotlib\n",
    "\n",
    "## Import Modules"
   ]
  },
  {
   "cell_type": "code",
   "execution_count": null,
   "metadata": {},
   "outputs": [],
   "source": [
    "%matplotlib inline"
   ]
  },
  {
   "cell_type": "code",
   "execution_count": null,
   "metadata": {},
   "outputs": [],
   "source": [
    "import matplotlib\n",
    "import matplotlib.pyplot as plt\n",
    "import pandas as pd\n",
    "\n",
    "print(matplotlib.__version__)\n",
    "print(pd.__version__)"
   ]
  },
  {
   "cell_type": "markdown",
   "metadata": {},
   "source": [
    "## Sample Dataset"
   ]
  },
  {
   "cell_type": "code",
   "execution_count": null,
   "metadata": {},
   "outputs": [],
   "source": [
    "df = pd.DataFrame({\n",
    "    'nama': ['cecep', 'karti', 'bejo', 'tejo', 'asep', 'wati', 'amat'],\n",
    "    'usia': [23, 78, 22, 19, 45, 33, 20],\n",
    "    'gender': ['L', 'P', 'L', 'L', 'L', 'P', 'L'],\n",
    "    'propinsi':\n",
    "    ['jabar', 'jatim', 'jabar', 'jatim', 'jabar', 'jateng', 'jateng'],\n",
    "    'n_anak': [2, 0, 0, 3, 2, 1, 4],\n",
    "    'n_pets': [5, 1, 0, 5, 2, 2, 3]\n",
    "})\n",
    "\n",
    "df"
   ]
  },
  {
   "cell_type": "markdown",
   "metadata": {},
   "source": [
    "## Scatter Plot"
   ]
  },
  {
   "cell_type": "code",
   "execution_count": null,
   "metadata": {},
   "outputs": [],
   "source": [
    "df.plot(kind='scatter', x='n_anak', y='n_pets', color='red')\n",
    "\n",
    "plt.title('Scatter Plot')\n",
    "plt.xlabel('Jumlah Anak')\n",
    "plt.ylabel('Jumlah Pets')\n",
    "plt.show()"
   ]
  },
  {
   "cell_type": "markdown",
   "metadata": {},
   "source": [
    "## Histogram"
   ]
  },
  {
   "cell_type": "code",
   "execution_count": null,
   "metadata": {},
   "outputs": [],
   "source": [
    "df[['usia']].plot(kind='hist', bins=[0, 20, 40, 60, 80, 100])\n",
    "\n",
    "plt.title('Histogram')\n",
    "plt.xlabel('Usia')\n",
    "plt.ylabel('Jumlah')\n",
    "plt.show()"
   ]
  },
  {
   "cell_type": "markdown",
   "metadata": {},
   "source": [
    "## Line PLot"
   ]
  },
  {
   "cell_type": "code",
   "execution_count": null,
   "metadata": {},
   "outputs": [],
   "source": [
    "df.plot(kind='line', x='nama', y='n_anak', color='green')\n",
    "\n",
    "plt.title('Line Plot')\n",
    "plt.ylabel('Jumlah Anak')\n",
    "plt.show()"
   ]
  },
  {
   "cell_type": "markdown",
   "metadata": {},
   "source": [
    "## Multiple Line Plot"
   ]
  },
  {
   "cell_type": "code",
   "execution_count": null,
   "metadata": {},
   "outputs": [],
   "source": [
    "df.plot(kind='line', x='nama', y='n_anak', color='green')\n",
    "df.plot(kind='line', x='nama', y='n_pets', color='red')\n",
    "\n",
    "plt.title('Line Plot')\n",
    "plt.ylabel('Jumlah')\n",
    "plt.show()"
   ]
  },
  {
   "cell_type": "code",
   "execution_count": null,
   "metadata": {},
   "outputs": [],
   "source": [
    "ax = plt.gca()\n",
    "\n",
    "df.plot(kind='line', x='nama', y='n_anak', color='green', ax=ax)\n",
    "df.plot(kind='line', x='nama', y='n_pets', color='red', ax=ax)\n",
    "\n",
    "plt.title('Line Plot')\n",
    "plt.ylabel('Jumlah')\n",
    "plt.show()"
   ]
  },
  {
   "cell_type": "markdown",
   "metadata": {},
   "source": [
    "## Bar Plot"
   ]
  },
  {
   "cell_type": "code",
   "execution_count": null,
   "metadata": {},
   "outputs": [],
   "source": [
    "df.plot(kind='bar', x='nama', y='usia')\n",
    "\n",
    "plt.title('Bar Plot')\n",
    "plt.ylabel('Usia')\n",
    "plt.show()"
   ]
  },
  {
   "cell_type": "code",
   "execution_count": null,
   "metadata": {},
   "outputs": [],
   "source": [
    "df.groupby('propinsi')['nama'].count().plot(kind='bar')\n",
    "\n",
    "plt.title('Bar Plot')\n",
    "plt.ylabel('Jumlah')\n",
    "plt.show()"
   ]
  },
  {
   "cell_type": "markdown",
   "metadata": {},
   "source": [
    "## Stacked Bar Plot dengan dua level group by"
   ]
  },
  {
   "cell_type": "code",
   "execution_count": null,
   "metadata": {},
   "outputs": [],
   "source": [
    "df.groupby(['propinsi', 'gender']).size().unstack().plot(kind='bar',\n",
    "                                                         stacked=True)\n",
    "\n",
    "plt.title('Bar Plot')\n",
    "plt.ylabel('Jumlah')\n",
    "plt.show()"
   ]
  },
  {
   "cell_type": "code",
   "execution_count": null,
   "metadata": {},
   "outputs": [],
   "source": [
    "df.groupby(['gender', 'propinsi']).size().unstack().plot(kind='bar',\n",
    "                                                         stacked=True)\n",
    "\n",
    "plt.title('Stacked Bar Plot')\n",
    "plt.ylabel('Jumlah')\n",
    "plt.show()"
   ]
  }
 ],
 "metadata": {
  "kernelspec": {
   "display_name": "Python 3",
   "language": "python",
   "name": "python3"
  },
  "language_info": {
   "codemirror_mode": {
    "name": "ipython",
    "version": 3
   },
   "file_extension": ".py",
   "mimetype": "text/x-python",
   "name": "python",
   "nbconvert_exporter": "python",
   "pygments_lexer": "ipython3",
   "version": "3.8.5"
  }
 },
 "nbformat": 4,
 "nbformat_minor": 4
}
