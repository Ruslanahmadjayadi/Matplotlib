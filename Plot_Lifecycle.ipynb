{
 "cells": [
  {
   "cell_type": "markdown",
   "metadata": {},
   "source": [
    "# Plot Lifecycle\n",
    "- Mempelajari cara membuat bar plot dengan matplotlib"
   ]
  },
  {
   "cell_type": "markdown",
   "metadata": {},
   "source": [
    "## Import Modules\n",
    "- Mengimport dan menampilkan versi modules"
   ]
  },
  {
   "cell_type": "code",
   "execution_count": 28,
   "metadata": {},
   "outputs": [],
   "source": [
    "%matplotlib inline"
   ]
  },
  {
   "cell_type": "code",
   "execution_count": 29,
   "metadata": {},
   "outputs": [
    {
     "name": "stdout",
     "output_type": "stream",
     "text": [
      "3.3.2\n",
      "1.19.2\n"
     ]
    }
   ],
   "source": [
    "import matplotlib\n",
    "import matplotlib.pyplot as plt\n",
    "import numpy as np\n",
    "\n",
    "print(matplotlib.__version__)\n",
    "print(np.__version__)"
   ]
  },
  {
   "cell_type": "markdown",
   "metadata": {},
   "source": [
    "## Sample Dataset\n",
    "- Membuat struktur dataset dictionary"
   ]
  },
  {
   "cell_type": "code",
   "execution_count": 30,
   "metadata": {},
   "outputs": [
    {
     "data": {
      "text/plain": [
       "{'Item A': 109438,\n",
       " 'Item B': 103569,\n",
       " 'Item C': 112214,\n",
       " 'Item D': 112591,\n",
       " 'Item E': 100934,\n",
       " 'Item F': 103660,\n",
       " 'Item G': 137351,\n",
       " 'Item H': 123381,\n",
       " 'Item I': 135841,\n",
       " 'Item J': 104437}"
      ]
     },
     "execution_count": 30,
     "metadata": {},
     "output_type": "execute_result"
    }
   ],
   "source": [
    "data = {'Item A': 109438,\n",
    "        'Item B': 103569,\n",
    "        'Item C': 112214,\n",
    "        'Item D': 112591,\n",
    "        'Item E': 100934,\n",
    "        'Item F': 103660,\n",
    "        'Item G': 137351,\n",
    "        'Item H': 123381,\n",
    "        'Item I': 135841,\n",
    "        'Item J': 104437}\n",
    "\n",
    "data"
   ]
  },
  {
   "cell_type": "markdown",
   "metadata": {},
   "source": [
    "- `data.keys()` Untuk Mengekstrak Keys dari data dictionary yang ditampung kedalam suatu tuple  "
   ]
  },
  {
   "cell_type": "code",
   "execution_count": 31,
   "metadata": {},
   "outputs": [
    {
     "data": {
      "text/plain": [
       "('Item A',\n",
       " 'Item B',\n",
       " 'Item C',\n",
       " 'Item D',\n",
       " 'Item E',\n",
       " 'Item F',\n",
       " 'Item G',\n",
       " 'Item H',\n",
       " 'Item I',\n",
       " 'Item J')"
      ]
     },
     "execution_count": 31,
     "metadata": {},
     "output_type": "execute_result"
    }
   ],
   "source": [
    "items = tuple(data.keys())\n",
    "items"
   ]
  },
  {
   "cell_type": "markdown",
   "metadata": {},
   "source": [
    "- `data.values()` Untuk mengekstrak value dari data dictionary yang ditampung kedalam suatu tuple  "
   ]
  },
  {
   "cell_type": "code",
   "execution_count": 32,
   "metadata": {},
   "outputs": [
    {
     "data": {
      "text/plain": [
       "(109438,\n",
       " 103569,\n",
       " 112214,\n",
       " 112591,\n",
       " 100934,\n",
       " 103660,\n",
       " 137351,\n",
       " 123381,\n",
       " 135841,\n",
       " 104437)"
      ]
     },
     "execution_count": 32,
     "metadata": {},
     "output_type": "execute_result"
    }
   ],
   "source": [
    "count = tuple(data.values())\n",
    "count"
   ]
  },
  {
   "cell_type": "markdown",
   "metadata": {},
   "source": [
    "## Simple Plot \n",
    "- membuat sebuah plotting sederhana bar plot horizontal dengan OOStyle"
   ]
  },
  {
   "cell_type": "code",
   "execution_count": 33,
   "metadata": {},
   "outputs": [
    {
     "data": {
      "image/png": "[encoded data removed]",
      "text/plain": [
       "<Figure size 432x288 with 1 Axes>"
      ]
     },
     "metadata": {
      "needs_background": "light"
     },
     "output_type": "display_data"
    }
   ],
   "source": [
    "fig, ax = plt.subplots()\n",
    "\n",
    "ax.barh(items, count)\n",
    "\n",
    "plt.show()"
   ]
  },
  {
   "cell_type": "markdown",
   "metadata": {},
   "source": [
    "## Setting Style\n",
    "- `plt.style.available` Menampilkan daftar style"
   ]
  },
  {
   "cell_type": "code",
   "execution_count": 34,
   "metadata": {},
   "outputs": [
    {
     "data": {
      "text/plain": [
       "['Solarize_Light2',\n",
       " '_classic_test_patch',\n",
       " 'bmh',\n",
       " 'classic',\n",
       " 'dark_background',\n",
       " 'fast',\n",
       " 'fivethirtyeight',\n",
       " 'ggplot',\n",
       " 'grayscale',\n",
       " 'seaborn',\n",
       " 'seaborn-bright',\n",
       " 'seaborn-colorblind',\n",
       " 'seaborn-dark',\n",
       " 'seaborn-dark-palette',\n",
       " 'seaborn-darkgrid',\n",
       " 'seaborn-deep',\n",
       " 'seaborn-muted',\n",
       " 'seaborn-notebook',\n",
       " 'seaborn-paper',\n",
       " 'seaborn-pastel',\n",
       " 'seaborn-poster',\n",
       " 'seaborn-talk',\n",
       " 'seaborn-ticks',\n",
       " 'seaborn-white',\n",
       " 'seaborn-whitegrid',\n",
       " 'tableau-colorblind10']"
      ]
     },
     "execution_count": 34,
     "metadata": {},
     "output_type": "execute_result"
    }
   ],
   "source": [
    "plt.style.available"
   ]
  },
  {
   "cell_type": "markdown",
   "metadata": {},
   "source": [
    "- `plt.style.use('seaborn-pastel')` Contoh Plotting yang sudah disetting"
   ]
  },
  {
   "cell_type": "code",
   "execution_count": 35,
   "metadata": {},
   "outputs": [
    {
     "data": {
      "image/png": "[encoded data removed]",
      "text/plain": [
       "<Figure size 432x288 with 1 Axes>"
      ]
     },
     "metadata": {
      "needs_background": "light"
     },
     "output_type": "display_data"
    }
   ],
   "source": [
    "plt.style.use('seaborn-pastel')\n",
    "\n",
    "fig, ax = plt.subplots()\n",
    "ax.barh(items, count)\n",
    "plt.show()"
   ]
  },
  {
   "cell_type": "markdown",
   "metadata": {},
   "source": [
    "## Pengaturan Tick Label\n",
    "- `ax.get_xticklabels()` Digunakan untuk mendapatkan akses terhadap objek dari tick label yang berada disumbu x\n",
    "- `plt.setp` Untuk melakukan pengaturan properties"
   ]
  },
  {
   "cell_type": "code",
   "execution_count": 36,
   "metadata": {},
   "outputs": [
    {
     "data": {
      "image/png": "[encoded data removed]",
      "text/plain": [
       "<Figure size 432x288 with 1 Axes>"
      ]
     },
     "metadata": {
      "needs_background": "light"
     },
     "output_type": "display_data"
    }
   ],
   "source": [
    "fig, ax = plt.subplots()\n",
    "ax.barh(items, count)\n",
    "\n",
    "labels = ax.get_xticklabels()\n",
    "\n",
    "# set properties\n",
    "plt.setp(labels,\n",
    "         rotation=45,\n",
    "         horizontalalignment='right')\n",
    "\n",
    "plt.show()"
   ]
  },
  {
   "cell_type": "markdown",
   "metadata": {},
   "source": [
    "## Pengaturan Format Pada Ticker\n",
    "- `from matplotlib.ticker import FuncFormatter` Hal pertama yang dilakukan untuk melakukan format pada ticker "
   ]
  },
  {
   "cell_type": "code",
   "execution_count": 37,
   "metadata": {},
   "outputs": [],
   "source": [
    "from matplotlib.ticker import FuncFormatter"
   ]
  },
  {
   "cell_type": "markdown",
   "metadata": {},
   "source": [
    "- Untuk membuat fungsi sederhana yang berguna untuk mengkonversi nilai ribuan menjadi K\n",
    "- contoh: nilai 1000 menjadi 1K"
   ]
  },
  {
   "cell_type": "code",
   "execution_count": 38,
   "metadata": {},
   "outputs": [],
   "source": [
    "def ribuan(x, pos):\n",
    "    return f'{int(x/1000)}K'"
   ]
  },
  {
   "cell_type": "code",
   "execution_count": 39,
   "metadata": {},
   "outputs": [
    {
     "data": {
      "image/png": "[encoded data removed]",
      "text/plain": [
       "<Figure size 432x288 with 1 Axes>"
      ]
     },
     "metadata": {
      "needs_background": "light"
     },
     "output_type": "display_data"
    }
   ],
   "source": [
    "fig, ax = plt.subplots()\n",
    "ax.barh(items, count)\n",
    "\n",
    "formatter = FuncFormatter(ribuan)\n",
    "ax.xaxis.set_major_formatter(formatter)\n",
    "\n",
    "ax.set(title='Contoh Plot', \n",
    "       xlabel='Jumlah', \n",
    "       ylabel='Items')\n",
    "\n",
    "plt.show()"
   ]
  },
  {
   "cell_type": "markdown",
   "metadata": {},
   "source": [
    "## Pengturan Label Pada Sumbu (Axis) Dan Judul (Tittle)"
   ]
  },
  {
   "cell_type": "code",
   "execution_count": 40,
   "metadata": {},
   "outputs": [
    {
     "data": {
      "image/png": "[encoded data removed]",
      "text/plain": [
       "<Figure size 432x288 with 1 Axes>"
      ]
     },
     "metadata": {
      "needs_background": "light"
     },
     "output_type": "display_data"
    }
   ],
   "source": [
    "fig, ax = plt.subplots()\n",
    "ax.barh(items, count)\n",
    "\n",
    "ax.set(title='Contoh Plot', \n",
    "       xlabel='Jumlah', \n",
    "       ylabel='Items')\n",
    "\n",
    "plt.show()"
   ]
  },
  {
   "cell_type": "markdown",
   "metadata": {},
   "source": [
    "## Penambahan Garis (Vertical/Horizontal Line) Pada Plot\n",
    "- `ax.axvline` untuk menambahkan garis vertikal yang diatur oleh ketiga parameternya\n",
    "- Parameter 1 untuk menentukan penempatas Line\n",
    "- Parameter 2 untuk menentukan bentuk/jenis Line\n",
    "- Parameter 3 untuk menentukan warana Line"
   ]
  },
  {
   "cell_type": "code",
   "execution_count": 45,
   "metadata": {},
   "outputs": [
    {
     "data": {
      "image/png": "[encoded data removed]",
      "text/plain": [
       "<Figure size 432x288 with 1 Axes>"
      ]
     },
     "metadata": {
      "needs_background": "light"
     },
     "output_type": "display_data"
    }
   ],
   "source": [
    "fig,ax = plt.subplots()\n",
    "ax.barh(items,count)\n",
    "\n",
    "ax.axvline(np.mean(count),ls='--',color='y')\n",
    "ax.set(title = 'Contoh Plot',xlabel='Jumlah',ylabel='Items')\n",
    "plt.show()"
   ]
  },
  {
   "cell_type": "markdown",
   "metadata": {},
   "source": [
    "## Menyimpan Hasil Plot Ke dalam Suatu File\n",
    "- `fig.canvas.get_supported_filetypes()` untuk melihat tipe file yang didukung oleh matplotlib"
   ]
  },
  {
   "cell_type": "code",
   "execution_count": 42,
   "metadata": {},
   "outputs": [
    {
     "data": {
      "text/plain": [
       "{'eps': 'Encapsulated Postscript',\n",
       " 'jpg': 'Joint Photographic Experts Group',\n",
       " 'jpeg': 'Joint Photographic Experts Group',\n",
       " 'pdf': 'Portable Document Format',\n",
       " 'pgf': 'PGF code for LaTeX',\n",
       " 'png': 'Portable Network Graphics',\n",
       " 'ps': 'Postscript',\n",
       " 'raw': 'Raw RGBA bitmap',\n",
       " 'rgba': 'Raw RGBA bitmap',\n",
       " 'svg': 'Scalable Vector Graphics',\n",
       " 'svgz': 'Scalable Vector Graphics',\n",
       " 'tif': 'Tagged Image File Format',\n",
       " 'tiff': 'Tagged Image File Format'}"
      ]
     },
     "execution_count": 42,
     "metadata": {},
     "output_type": "execute_result"
    }
   ],
   "source": [
    "fig.canvas.get_supported_filetypes()"
   ]
  },
  {
   "cell_type": "markdown",
   "metadata": {},
   "source": [
    "- `fig.savefig('sales.png',transparent=False,dpi=80)` cara untuk menyimpan file yang ditentukan oleh parameter\n",
    "- Parameter 1 untuk menentukan nama File\n",
    "- Parameter 2 (optional) untuk mengatur transparansi\n",
    "- Parameter 3 (optional) untuk mengatur resolusi dpi"
   ]
  },
  {
   "cell_type": "code",
   "execution_count": 44,
   "metadata": {},
   "outputs": [
    {
     "data": {
      "image/png": "[encoded data removed]",
      "text/plain": [
       "<Figure size 432x288 with 1 Axes>"
      ]
     },
     "metadata": {
      "needs_background": "light"
     },
     "output_type": "display_data"
    }
   ],
   "source": [
    "fig,ax=plt.subplots()\n",
    "ax.barh(items,count)\n",
    "\n",
    "ax.axvline(np.mean(count),ls='--',color='y')\n",
    "ax.set(title = 'Contoh Plot',xlabel='Jumlah',ylabel='Items')\n",
    "\n",
    "fig.savefig('sales.png',transparent=False,dpi=80)"
   ]
  },
  {
   "cell_type": "code",
   "execution_count": null,
   "metadata": {},
   "outputs": [],
   "source": []
  }
 ],
 "metadata": {
  "kernelspec": {
   "display_name": "Python 3",
   "language": "python",
   "name": "python3"
  },
  "language_info": {
   "codemirror_mode": {
    "name": "ipython",
    "version": 3
   },
   "file_extension": ".py",
   "mimetype": "text/x-python",
   "name": "python",
   "nbconvert_exporter": "python",
   "pygments_lexer": "ipython3",
   "version": "3.8.5"
  }
 },
 "nbformat": 4,
 "nbformat_minor": 4
}
